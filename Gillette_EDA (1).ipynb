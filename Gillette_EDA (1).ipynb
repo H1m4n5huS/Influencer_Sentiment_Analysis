{
 "cells": [
  {
   "cell_type": "markdown",
   "id": "ec8bb89e",
   "metadata": {},
   "source": [
    "# 1) Standard imports"
   ]
  },
  {
   "cell_type": "code",
   "execution_count": 66,
   "id": "b27b54b9",
   "metadata": {},
   "outputs": [
    {
     "name": "stderr",
     "output_type": "stream",
     "text": [
      "[nltk_data] Downloading package wordnet to\n",
      "[nltk_data]     C:\\Users\\admin\\AppData\\Roaming\\nltk_data...\n",
      "[nltk_data]   Package wordnet is already up-to-date!\n"
     ]
    }
   ],
   "source": [
    "import numpy as np \n",
    "import pandas as pd \n",
    "import re\n",
    "import urlextract\n",
    "\n",
    "# For Preprocesssing Text Data\n",
    "\n",
    "\n",
    "from nltk import word_tokenize, pos_tag\n",
    "from nltk.stem import WordNetLemmatizer\n",
    "from nltk.corpus import stopwords\n",
    "import nltk\n",
    "\n",
    "nltk.download('wordnet')\n",
    "\n",
    "# Feature Extraction\n",
    "from sklearn.feature_extraction.text import TfidfVectorizer\n",
    "\n",
    "# Import the train test split\n",
    "from sklearn.model_selection import train_test_split\n",
    "\n",
    "# Check Performance\n",
    "from sklearn.metrics import classification_report"
   ]
  },
  {
   "cell_type": "markdown",
   "id": "12ec7dfd",
   "metadata": {},
   "source": [
    "# 2)Importing Data"
   ]
  },
  {
   "cell_type": "code",
   "execution_count": 67,
   "id": "c35b30ef",
   "metadata": {},
   "outputs": [],
   "source": [
    "train = pd.read_csv(r\"Gillette_Youtube.csv\")"
   ]
  },
  {
   "cell_type": "code",
   "execution_count": 68,
   "id": "0aa49484",
   "metadata": {},
   "outputs": [
    {
     "data": {
      "text/html": [
       "<div>\n",
       "<style scoped>\n",
       "    .dataframe tbody tr th:only-of-type {\n",
       "        vertical-align: middle;\n",
       "    }\n",
       "\n",
       "    .dataframe tbody tr th {\n",
       "        vertical-align: top;\n",
       "    }\n",
       "\n",
       "    .dataframe thead th {\n",
       "        text-align: right;\n",
       "    }\n",
       "</style>\n",
       "<table border=\"1\" class=\"dataframe\">\n",
       "  <thead>\n",
       "    <tr style=\"text-align: right;\">\n",
       "      <th></th>\n",
       "      <th>Comment Number</th>\n",
       "      <th>Reply Number</th>\n",
       "      <th>Like Count</th>\n",
       "      <th>Published At</th>\n",
       "      <th>Text</th>\n",
       "    </tr>\n",
       "  </thead>\n",
       "  <tbody>\n",
       "    <tr>\n",
       "      <th>0</th>\n",
       "      <td>1.0</td>\n",
       "      <td>NaN</td>\n",
       "      <td>124</td>\n",
       "      <td>2019-01-21T11:04:16Z</td>\n",
       "      <td>For more context on this video:\\nhttps://www.t...</td>\n",
       "    </tr>\n",
       "    <tr>\n",
       "      <th>1</th>\n",
       "      <td>NaN</td>\n",
       "      <td>1.0</td>\n",
       "      <td>0</td>\n",
       "      <td>2022-08-20T00:40:51Z</td>\n",
       "      <td>Stopped buying gillete because of this</td>\n",
       "    </tr>\n",
       "    <tr>\n",
       "      <th>2</th>\n",
       "      <td>NaN</td>\n",
       "      <td>2.0</td>\n",
       "      <td>0</td>\n",
       "      <td>2022-08-16T21:57:02Z</td>\n",
       "      <td>0:36 THE COUNCIL OF MEN APPROVES</td>\n",
       "    </tr>\n",
       "    <tr>\n",
       "      <th>3</th>\n",
       "      <td>NaN</td>\n",
       "      <td>3.0</td>\n",
       "      <td>0</td>\n",
       "      <td>2022-06-24T09:27:01Z</td>\n",
       "      <td>I love this advertisment.From 2017 to date.</td>\n",
       "    </tr>\n",
       "    <tr>\n",
       "      <th>4</th>\n",
       "      <td>NaN</td>\n",
       "      <td>4.0</td>\n",
       "      <td>0</td>\n",
       "      <td>2022-04-30T01:04:14Z</td>\n",
       "      <td>The only 'context' you will never find in a Gu...</td>\n",
       "    </tr>\n",
       "  </tbody>\n",
       "</table>\n",
       "</div>"
      ],
      "text/plain": [
       "   Comment Number  Reply Number  Like Count          Published At  \\\n",
       "0             1.0           NaN         124  2019-01-21T11:04:16Z   \n",
       "1             NaN           1.0           0  2022-08-20T00:40:51Z   \n",
       "2             NaN           2.0           0  2022-08-16T21:57:02Z   \n",
       "3             NaN           3.0           0  2022-06-24T09:27:01Z   \n",
       "4             NaN           4.0           0  2022-04-30T01:04:14Z   \n",
       "\n",
       "                                                Text  \n",
       "0  For more context on this video:\\nhttps://www.t...  \n",
       "1             Stopped buying gillete because of this  \n",
       "2                   0:36 THE COUNCIL OF MEN APPROVES  \n",
       "3        I love this advertisment.From 2017 to date.  \n",
       "4  The only 'context' you will never find in a Gu...  "
      ]
     },
     "execution_count": 68,
     "metadata": {},
     "output_type": "execute_result"
    }
   ],
   "source": [
    "train.head()"
   ]
  },
  {
   "cell_type": "code",
   "execution_count": 69,
   "id": "8af60fe9",
   "metadata": {},
   "outputs": [],
   "source": [
    "##Replace 'Text' column to 'Comments'\n",
    "\n",
    "train.rename(columns = {'Text':'Comments'}, inplace = True)"
   ]
  },
  {
   "cell_type": "code",
   "execution_count": 70,
   "id": "d62d9626",
   "metadata": {},
   "outputs": [
    {
     "data": {
      "text/plain": [
       "Index(['Comment Number', 'Reply Number', 'Like Count', 'Published At',\n",
       "       'Comments'],\n",
       "      dtype='object')"
      ]
     },
     "execution_count": 70,
     "metadata": {},
     "output_type": "execute_result"
    }
   ],
   "source": [
    "train.columns"
   ]
  },
  {
   "cell_type": "markdown",
   "id": "bfec5d27",
   "metadata": {},
   "source": [
    "# 3)Comments - Descriptive Stats"
   ]
  },
  {
   "cell_type": "code",
   "execution_count": 71,
   "id": "54bd1339",
   "metadata": {},
   "outputs": [
    {
     "data": {
      "text/plain": [
       "21686"
      ]
     },
     "execution_count": 71,
     "metadata": {},
     "output_type": "execute_result"
    }
   ],
   "source": [
    "train[train.columns[-1]].count()"
   ]
  },
  {
   "cell_type": "code",
   "execution_count": 72,
   "id": "4a993a96",
   "metadata": {},
   "outputs": [
    {
     "data": {
      "text/plain": [
       "(21687, 5)"
      ]
     },
     "execution_count": 72,
     "metadata": {},
     "output_type": "execute_result"
    }
   ],
   "source": [
    "train.shape"
   ]
  },
  {
   "cell_type": "code",
   "execution_count": 73,
   "id": "545e73f4",
   "metadata": {},
   "outputs": [],
   "source": [
    "train['Comments'] = train['Comments'].astype(str)"
   ]
  },
  {
   "cell_type": "code",
   "execution_count": 74,
   "id": "c6fb0160",
   "metadata": {},
   "outputs": [],
   "source": [
    "### Create Length Feature\n",
    "\n",
    "train['text_length'] = train['Comments'].apply(lambda x : len(x))"
   ]
  },
  {
   "cell_type": "code",
   "execution_count": 75,
   "id": "2e1afcd0",
   "metadata": {},
   "outputs": [
    {
     "data": {
      "text/plain": [
       "<AxesSubplot:ylabel='Frequency'>"
      ]
     },
     "execution_count": 75,
     "metadata": {},
     "output_type": "execute_result"
    },
    {
     "data": {
      "image/png": "[encoded data removed]",
      "text/plain": [
       "<Figure size 432x288 with 1 Axes>"
      ]
     },
     "metadata": {
      "needs_background": "light"
     },
     "output_type": "display_data"
    }
   ],
   "source": [
    "train['text_length'].plot.hist(bins = 10)"
   ]
  },
  {
   "cell_type": "markdown",
   "id": "b6ad76db",
   "metadata": {},
   "source": [
    "# 4) Cleaning - URL & Punctuation Removal"
   ]
  },
  {
   "cell_type": "code",
   "execution_count": 76,
   "id": "83374033",
   "metadata": {},
   "outputs": [],
   "source": [
    "# URLs removal and extra spaces too\n",
    "\n",
    "train['Comments'] = train['Comments'].apply(lambda x: re.sub(r'https?\\S+', '', x).strip())"
   ]
  },
  {
   "cell_type": "code",
   "execution_count": 77,
   "id": "ef23eadf",
   "metadata": {},
   "outputs": [
    {
     "data": {
      "text/html": [
       "<div>\n",
       "<style scoped>\n",
       "    .dataframe tbody tr th:only-of-type {\n",
       "        vertical-align: middle;\n",
       "    }\n",
       "\n",
       "    .dataframe tbody tr th {\n",
       "        vertical-align: top;\n",
       "    }\n",
       "\n",
       "    .dataframe thead th {\n",
       "        text-align: right;\n",
       "    }\n",
       "</style>\n",
       "<table border=\"1\" class=\"dataframe\">\n",
       "  <thead>\n",
       "    <tr style=\"text-align: right;\">\n",
       "      <th></th>\n",
       "      <th>Comment Number</th>\n",
       "      <th>Reply Number</th>\n",
       "      <th>Like Count</th>\n",
       "      <th>Published At</th>\n",
       "      <th>Comments</th>\n",
       "      <th>text_length</th>\n",
       "    </tr>\n",
       "  </thead>\n",
       "  <tbody>\n",
       "    <tr>\n",
       "      <th>0</th>\n",
       "      <td>1.0</td>\n",
       "      <td>NaN</td>\n",
       "      <td>124</td>\n",
       "      <td>2019-01-21T11:04:16Z</td>\n",
       "      <td>For more context on this video:</td>\n",
       "      <td>562</td>\n",
       "    </tr>\n",
       "    <tr>\n",
       "      <th>1</th>\n",
       "      <td>NaN</td>\n",
       "      <td>1.0</td>\n",
       "      <td>0</td>\n",
       "      <td>2022-08-20T00:40:51Z</td>\n",
       "      <td>Stopped buying gillete because of this</td>\n",
       "      <td>38</td>\n",
       "    </tr>\n",
       "    <tr>\n",
       "      <th>2</th>\n",
       "      <td>NaN</td>\n",
       "      <td>2.0</td>\n",
       "      <td>0</td>\n",
       "      <td>2022-08-16T21:57:02Z</td>\n",
       "      <td>0:36 THE COUNCIL OF MEN APPROVES</td>\n",
       "      <td>32</td>\n",
       "    </tr>\n",
       "    <tr>\n",
       "      <th>3</th>\n",
       "      <td>NaN</td>\n",
       "      <td>3.0</td>\n",
       "      <td>0</td>\n",
       "      <td>2022-06-24T09:27:01Z</td>\n",
       "      <td>I love this advertisment.From 2017 to date.</td>\n",
       "      <td>43</td>\n",
       "    </tr>\n",
       "    <tr>\n",
       "      <th>4</th>\n",
       "      <td>NaN</td>\n",
       "      <td>4.0</td>\n",
       "      <td>0</td>\n",
       "      <td>2022-04-30T01:04:14Z</td>\n",
       "      <td>The only 'context' you will never find in a Gu...</td>\n",
       "      <td>78</td>\n",
       "    </tr>\n",
       "    <tr>\n",
       "      <th>5</th>\n",
       "      <td>NaN</td>\n",
       "      <td>5.0</td>\n",
       "      <td>0</td>\n",
       "      <td>2022-03-26T11:19:21Z</td>\n",
       "      <td>👍 71k  👎 114k dem people have spoken, step out...</td>\n",
       "      <td>60</td>\n",
       "    </tr>\n",
       "    <tr>\n",
       "      <th>6</th>\n",
       "      <td>NaN</td>\n",
       "      <td>6.0</td>\n",
       "      <td>0</td>\n",
       "      <td>2022-03-23T07:58:04Z</td>\n",
       "      <td>-</td>\n",
       "      <td>1</td>\n",
       "    </tr>\n",
       "    <tr>\n",
       "      <th>7</th>\n",
       "      <td>NaN</td>\n",
       "      <td>7.0</td>\n",
       "      <td>0</td>\n",
       "      <td>2022-02-09T10:34:26Z</td>\n",
       "      <td>@lethalgiada How you use language shows how de...</td>\n",
       "      <td>83</td>\n",
       "    </tr>\n",
       "    <tr>\n",
       "      <th>8</th>\n",
       "      <td>NaN</td>\n",
       "      <td>8.0</td>\n",
       "      <td>0</td>\n",
       "      <td>2022-01-31T22:58:29Z</td>\n",
       "      <td>The Guardian is based confirmed.</td>\n",
       "      <td>32</td>\n",
       "    </tr>\n",
       "    <tr>\n",
       "      <th>9</th>\n",
       "      <td>NaN</td>\n",
       "      <td>9.0</td>\n",
       "      <td>0</td>\n",
       "      <td>2021-03-06T18:54:15Z</td>\n",
       "      <td>imagine attacking your target Audience 🤣🤣🤣 Don...</td>\n",
       "      <td>76</td>\n",
       "    </tr>\n",
       "  </tbody>\n",
       "</table>\n",
       "</div>"
      ],
      "text/plain": [
       "   Comment Number  Reply Number  Like Count          Published At  \\\n",
       "0             1.0           NaN         124  2019-01-21T11:04:16Z   \n",
       "1             NaN           1.0           0  2022-08-20T00:40:51Z   \n",
       "2             NaN           2.0           0  2022-08-16T21:57:02Z   \n",
       "3             NaN           3.0           0  2022-06-24T09:27:01Z   \n",
       "4             NaN           4.0           0  2022-04-30T01:04:14Z   \n",
       "5             NaN           5.0           0  2022-03-26T11:19:21Z   \n",
       "6             NaN           6.0           0  2022-03-23T07:58:04Z   \n",
       "7             NaN           7.0           0  2022-02-09T10:34:26Z   \n",
       "8             NaN           8.0           0  2022-01-31T22:58:29Z   \n",
       "9             NaN           9.0           0  2021-03-06T18:54:15Z   \n",
       "\n",
       "                                            Comments  text_length  \n",
       "0                    For more context on this video:          562  \n",
       "1             Stopped buying gillete because of this           38  \n",
       "2                   0:36 THE COUNCIL OF MEN APPROVES           32  \n",
       "3        I love this advertisment.From 2017 to date.           43  \n",
       "4  The only 'context' you will never find in a Gu...           78  \n",
       "5  👍 71k  👎 114k dem people have spoken, step out...           60  \n",
       "6                                                  -            1  \n",
       "7  @lethalgiada How you use language shows how de...           83  \n",
       "8                   The Guardian is based confirmed.           32  \n",
       "9  imagine attacking your target Audience 🤣🤣🤣 Don...           76  "
      ]
     },
     "execution_count": 77,
     "metadata": {},
     "output_type": "execute_result"
    }
   ],
   "source": [
    "train.head(10)"
   ]
  },
  {
   "cell_type": "code",
   "execution_count": 78,
   "id": "262bfbb6",
   "metadata": {},
   "outputs": [],
   "source": [
    "##Remove punctuation\n",
    "\n",
    "import string\n",
    "def remove_punctuations(text):\n",
    "    for punctuation in string.punctuation:\n",
    "        text = text.replace(punctuation, '')\n",
    "    return text"
   ]
  },
  {
   "cell_type": "code",
   "execution_count": 79,
   "id": "ddc025de",
   "metadata": {},
   "outputs": [
    {
     "data": {
      "text/plain": [
       "0                           For more context on this video\n",
       "1                   Stopped buying gillete because of this\n",
       "2                          036 THE COUNCIL OF MEN APPROVES\n",
       "3                I love this advertismentFrom 2017 to date\n",
       "4        The only context you will never find in a Guar...\n",
       "                               ...                        \n",
       "21682                                    eyedownloader Gay\n",
       "21683                                     davidsirmons Gay\n",
       "21684                                               Agreed\n",
       "21685    Odd cause the only hate I see here is from the...\n",
       "21686                          A wild White Knight appears\n",
       "Name: Comments, Length: 21687, dtype: object"
      ]
     },
     "execution_count": 79,
     "metadata": {},
     "output_type": "execute_result"
    }
   ],
   "source": [
    "train['Comments'].apply(remove_punctuations)"
   ]
  },
  {
   "cell_type": "code",
   "execution_count": 80,
   "id": "6bfb9ceb",
   "metadata": {},
   "outputs": [],
   "source": [
    "# Commit to Table\n",
    "train['Comments'] = train['Comments'].apply(remove_punctuations)"
   ]
  },
  {
   "cell_type": "code",
   "execution_count": 81,
   "id": "dfa1abb8",
   "metadata": {},
   "outputs": [
    {
     "data": {
      "text/plain": [
       "<AxesSubplot:ylabel='Frequency'>"
      ]
     },
     "execution_count": 81,
     "metadata": {},
     "output_type": "execute_result"
    },
    {
     "data": {
      "image/png": "[encoded data removed]",
      "text/plain": [
       "<Figure size 432x288 with 1 Axes>"
      ]
     },
     "metadata": {
      "needs_background": "light"
     },
     "output_type": "display_data"
    }
   ],
   "source": [
    "train['text_length'].plot.hist(bins = 10)"
   ]
  },
  {
   "cell_type": "markdown",
   "id": "5d436a6a",
   "metadata": {},
   "source": [
    "# 4) Cleaning - lower case"
   ]
  },
  {
   "cell_type": "code",
   "execution_count": 82,
   "id": "bfd3967c",
   "metadata": {},
   "outputs": [
    {
     "data": {
      "text/plain": [
       "0                           for more context on this video\n",
       "1                   stopped buying gillete because of this\n",
       "2                          036 the council of men approves\n",
       "3                i love this advertismentfrom 2017 to date\n",
       "4        the only context you will never find in a guar...\n",
       "                               ...                        \n",
       "21682                                    eyedownloader gay\n",
       "21683                                     davidsirmons gay\n",
       "21684                                               agreed\n",
       "21685    odd cause the only hate i see here is from the...\n",
       "21686                          a wild white knight appears\n",
       "Name: Comments, Length: 21687, dtype: object"
      ]
     },
     "execution_count": 82,
     "metadata": {},
     "output_type": "execute_result"
    }
   ],
   "source": [
    "# Showing only\n",
    "train['Comments'].apply(lambda x: x.lower())"
   ]
  },
  {
   "cell_type": "code",
   "execution_count": 83,
   "id": "824437e0",
   "metadata": {},
   "outputs": [],
   "source": [
    "# Commit to Table\n",
    "train['Comments'] = train['Comments'].apply(lambda x: x.lower())"
   ]
  },
  {
   "cell_type": "code",
   "execution_count": 84,
   "id": "fe5c7626",
   "metadata": {},
   "outputs": [
    {
     "data": {
      "text/html": [
       "<div>\n",
       "<style scoped>\n",
       "    .dataframe tbody tr th:only-of-type {\n",
       "        vertical-align: middle;\n",
       "    }\n",
       "\n",
       "    .dataframe tbody tr th {\n",
       "        vertical-align: top;\n",
       "    }\n",
       "\n",
       "    .dataframe thead th {\n",
       "        text-align: right;\n",
       "    }\n",
       "</style>\n",
       "<table border=\"1\" class=\"dataframe\">\n",
       "  <thead>\n",
       "    <tr style=\"text-align: right;\">\n",
       "      <th></th>\n",
       "      <th>Comment Number</th>\n",
       "      <th>Reply Number</th>\n",
       "      <th>Like Count</th>\n",
       "      <th>Published At</th>\n",
       "      <th>Comments</th>\n",
       "      <th>text_length</th>\n",
       "    </tr>\n",
       "  </thead>\n",
       "  <tbody>\n",
       "    <tr>\n",
       "      <th>0</th>\n",
       "      <td>1.0</td>\n",
       "      <td>NaN</td>\n",
       "      <td>124</td>\n",
       "      <td>2019-01-21T11:04:16Z</td>\n",
       "      <td>for more context on this video</td>\n",
       "      <td>562</td>\n",
       "    </tr>\n",
       "    <tr>\n",
       "      <th>1</th>\n",
       "      <td>NaN</td>\n",
       "      <td>1.0</td>\n",
       "      <td>0</td>\n",
       "      <td>2022-08-20T00:40:51Z</td>\n",
       "      <td>stopped buying gillete because of this</td>\n",
       "      <td>38</td>\n",
       "    </tr>\n",
       "    <tr>\n",
       "      <th>2</th>\n",
       "      <td>NaN</td>\n",
       "      <td>2.0</td>\n",
       "      <td>0</td>\n",
       "      <td>2022-08-16T21:57:02Z</td>\n",
       "      <td>036 the council of men approves</td>\n",
       "      <td>32</td>\n",
       "    </tr>\n",
       "    <tr>\n",
       "      <th>3</th>\n",
       "      <td>NaN</td>\n",
       "      <td>3.0</td>\n",
       "      <td>0</td>\n",
       "      <td>2022-06-24T09:27:01Z</td>\n",
       "      <td>i love this advertismentfrom 2017 to date</td>\n",
       "      <td>43</td>\n",
       "    </tr>\n",
       "    <tr>\n",
       "      <th>4</th>\n",
       "      <td>NaN</td>\n",
       "      <td>4.0</td>\n",
       "      <td>0</td>\n",
       "      <td>2022-04-30T01:04:14Z</td>\n",
       "      <td>the only context you will never find in a guar...</td>\n",
       "      <td>78</td>\n",
       "    </tr>\n",
       "    <tr>\n",
       "      <th>5</th>\n",
       "      <td>NaN</td>\n",
       "      <td>5.0</td>\n",
       "      <td>0</td>\n",
       "      <td>2022-03-26T11:19:21Z</td>\n",
       "      <td>👍 71k  👎 114k dem people have spoken step out ...</td>\n",
       "      <td>60</td>\n",
       "    </tr>\n",
       "    <tr>\n",
       "      <th>6</th>\n",
       "      <td>NaN</td>\n",
       "      <td>6.0</td>\n",
       "      <td>0</td>\n",
       "      <td>2022-03-23T07:58:04Z</td>\n",
       "      <td></td>\n",
       "      <td>1</td>\n",
       "    </tr>\n",
       "    <tr>\n",
       "      <th>7</th>\n",
       "      <td>NaN</td>\n",
       "      <td>7.0</td>\n",
       "      <td>0</td>\n",
       "      <td>2022-02-09T10:34:26Z</td>\n",
       "      <td>lethalgiada how you use language shows how dee...</td>\n",
       "      <td>83</td>\n",
       "    </tr>\n",
       "    <tr>\n",
       "      <th>8</th>\n",
       "      <td>NaN</td>\n",
       "      <td>8.0</td>\n",
       "      <td>0</td>\n",
       "      <td>2022-01-31T22:58:29Z</td>\n",
       "      <td>the guardian is based confirmed</td>\n",
       "      <td>32</td>\n",
       "    </tr>\n",
       "    <tr>\n",
       "      <th>9</th>\n",
       "      <td>NaN</td>\n",
       "      <td>9.0</td>\n",
       "      <td>0</td>\n",
       "      <td>2021-03-06T18:54:15Z</td>\n",
       "      <td>imagine attacking your target audience 🤣🤣🤣 don...</td>\n",
       "      <td>76</td>\n",
       "    </tr>\n",
       "    <tr>\n",
       "      <th>10</th>\n",
       "      <td>NaN</td>\n",
       "      <td>10.0</td>\n",
       "      <td>0</td>\n",
       "      <td>2021-02-26T23:26:13Z</td>\n",
       "      <td>can guardian news explain to us why you have b...</td>\n",
       "      <td>103</td>\n",
       "    </tr>\n",
       "    <tr>\n",
       "      <th>11</th>\n",
       "      <td>NaN</td>\n",
       "      <td>11.0</td>\n",
       "      <td>0</td>\n",
       "      <td>2020-05-06T06:47:28Z</td>\n",
       "      <td>lethalgiada verbal violence that is not a thin...</td>\n",
       "      <td>67</td>\n",
       "    </tr>\n",
       "    <tr>\n",
       "      <th>12</th>\n",
       "      <td>NaN</td>\n",
       "      <td>12.0</td>\n",
       "      <td>0</td>\n",
       "      <td>2020-05-06T06:44:13Z</td>\n",
       "      <td>lethalgiada a year later</td>\n",
       "      <td>27</td>\n",
       "    </tr>\n",
       "    <tr>\n",
       "      <th>13</th>\n",
       "      <td>NaN</td>\n",
       "      <td>13.0</td>\n",
       "      <td>0</td>\n",
       "      <td>2019-12-03T17:02:23Z</td>\n",
       "      <td>boys of tomorrow gonna be women at this fkn rate</td>\n",
       "      <td>48</td>\n",
       "    </tr>\n",
       "    <tr>\n",
       "      <th>14</th>\n",
       "      <td>NaN</td>\n",
       "      <td>14.0</td>\n",
       "      <td>0</td>\n",
       "      <td>2019-11-05T12:53:30Z</td>\n",
       "      <td>gay af</td>\n",
       "      <td>7</td>\n",
       "    </tr>\n",
       "    <tr>\n",
       "      <th>15</th>\n",
       "      <td>NaN</td>\n",
       "      <td>15.0</td>\n",
       "      <td>0</td>\n",
       "      <td>2019-11-03T05:16:40Z</td>\n",
       "      <td>lethalgiada you sure are disgusting  you cry a...</td>\n",
       "      <td>118</td>\n",
       "    </tr>\n",
       "    <tr>\n",
       "      <th>16</th>\n",
       "      <td>NaN</td>\n",
       "      <td>16.0</td>\n",
       "      <td>0</td>\n",
       "      <td>2019-10-15T16:49:11Z</td>\n",
       "      <td>lethalgiada lol male privilege is a myth creat...</td>\n",
       "      <td>254</td>\n",
       "    </tr>\n",
       "    <tr>\n",
       "      <th>17</th>\n",
       "      <td>NaN</td>\n",
       "      <td>17.0</td>\n",
       "      <td>0</td>\n",
       "      <td>2019-10-15T16:44:27Z</td>\n",
       "      <td>hayley merelle clearihan i highly doubt gillet...</td>\n",
       "      <td>271</td>\n",
       "    </tr>\n",
       "    <tr>\n",
       "      <th>18</th>\n",
       "      <td>NaN</td>\n",
       "      <td>18.0</td>\n",
       "      <td>0</td>\n",
       "      <td>2019-10-12T21:27:59Z</td>\n",
       "      <td>for more misandry read the guardian</td>\n",
       "      <td>36</td>\n",
       "    </tr>\n",
       "    <tr>\n",
       "      <th>19</th>\n",
       "      <td>NaN</td>\n",
       "      <td>19.0</td>\n",
       "      <td>0</td>\n",
       "      <td>2019-10-07T16:28:14Z</td>\n",
       "      <td>thanks for mansplaining the ad to us since we’...</td>\n",
       "      <td>245</td>\n",
       "    </tr>\n",
       "  </tbody>\n",
       "</table>\n",
       "</div>"
      ],
      "text/plain": [
       "    Comment Number  Reply Number  Like Count          Published At  \\\n",
       "0              1.0           NaN         124  2019-01-21T11:04:16Z   \n",
       "1              NaN           1.0           0  2022-08-20T00:40:51Z   \n",
       "2              NaN           2.0           0  2022-08-16T21:57:02Z   \n",
       "3              NaN           3.0           0  2022-06-24T09:27:01Z   \n",
       "4              NaN           4.0           0  2022-04-30T01:04:14Z   \n",
       "5              NaN           5.0           0  2022-03-26T11:19:21Z   \n",
       "6              NaN           6.0           0  2022-03-23T07:58:04Z   \n",
       "7              NaN           7.0           0  2022-02-09T10:34:26Z   \n",
       "8              NaN           8.0           0  2022-01-31T22:58:29Z   \n",
       "9              NaN           9.0           0  2021-03-06T18:54:15Z   \n",
       "10             NaN          10.0           0  2021-02-26T23:26:13Z   \n",
       "11             NaN          11.0           0  2020-05-06T06:47:28Z   \n",
       "12             NaN          12.0           0  2020-05-06T06:44:13Z   \n",
       "13             NaN          13.0           0  2019-12-03T17:02:23Z   \n",
       "14             NaN          14.0           0  2019-11-05T12:53:30Z   \n",
       "15             NaN          15.0           0  2019-11-03T05:16:40Z   \n",
       "16             NaN          16.0           0  2019-10-15T16:49:11Z   \n",
       "17             NaN          17.0           0  2019-10-15T16:44:27Z   \n",
       "18             NaN          18.0           0  2019-10-12T21:27:59Z   \n",
       "19             NaN          19.0           0  2019-10-07T16:28:14Z   \n",
       "\n",
       "                                             Comments  text_length  \n",
       "0                      for more context on this video          562  \n",
       "1              stopped buying gillete because of this           38  \n",
       "2                     036 the council of men approves           32  \n",
       "3           i love this advertismentfrom 2017 to date           43  \n",
       "4   the only context you will never find in a guar...           78  \n",
       "5   👍 71k  👎 114k dem people have spoken step out ...           60  \n",
       "6                                                                1  \n",
       "7   lethalgiada how you use language shows how dee...           83  \n",
       "8                     the guardian is based confirmed           32  \n",
       "9   imagine attacking your target audience 🤣🤣🤣 don...           76  \n",
       "10  can guardian news explain to us why you have b...          103  \n",
       "11  lethalgiada verbal violence that is not a thin...           67  \n",
       "12                           lethalgiada a year later           27  \n",
       "13   boys of tomorrow gonna be women at this fkn rate           48  \n",
       "14                                             gay af            7  \n",
       "15  lethalgiada you sure are disgusting  you cry a...          118  \n",
       "16  lethalgiada lol male privilege is a myth creat...          254  \n",
       "17  hayley merelle clearihan i highly doubt gillet...          271  \n",
       "18                for more misandry read the guardian           36  \n",
       "19  thanks for mansplaining the ad to us since we’...          245  "
      ]
     },
     "execution_count": 84,
     "metadata": {},
     "output_type": "execute_result"
    }
   ],
   "source": [
    "train.head(20)"
   ]
  },
  {
   "cell_type": "markdown",
   "id": "3fef7b88",
   "metadata": {},
   "source": [
    "# 5) Cleaning - Remove Stopwords & emoticons & special characters"
   ]
  },
  {
   "cell_type": "code",
   "execution_count": 85,
   "id": "cc5a18e0",
   "metadata": {},
   "outputs": [],
   "source": [
    "# Get Stopwords\n",
    "stop = stopwords.words('english')"
   ]
  },
  {
   "cell_type": "code",
   "execution_count": 86,
   "id": "88a9ff40",
   "metadata": {},
   "outputs": [
    {
     "data": {
      "text/plain": [
       "0                                         [context, video]\n",
       "1                               [stopped, buying, gillete]\n",
       "2                            [036, council, men, approves]\n",
       "3                     [love, advertismentfrom, 2017, date]\n",
       "4         [context, never, find, guardian, article, truth]\n",
       "                               ...                        \n",
       "21682                                 [eyedownloader, gay]\n",
       "21683                                  [davidsirmons, gay]\n",
       "21684                                             [agreed]\n",
       "21685    [odd, cause, hate, see, fragile, males, upset,...\n",
       "21686                       [wild, white, knight, appears]\n",
       "Name: Comments, Length: 21687, dtype: object"
      ]
     },
     "execution_count": 86,
     "metadata": {},
     "output_type": "execute_result"
    }
   ],
   "source": [
    "# Tokenize and Remove Stop Words\n",
    "train['Comments'].apply(lambda x: [word for word in x.split() if word not in stop])"
   ]
  },
  {
   "cell_type": "code",
   "execution_count": 87,
   "id": "0d211091",
   "metadata": {},
   "outputs": [
    {
     "data": {
      "text/plain": [
       "0                                            context video\n",
       "1                                   stopped buying gillete\n",
       "2                                 036 council men approves\n",
       "3                          love advertismentfrom 2017 date\n",
       "4                context never find guardian article truth\n",
       "                               ...                        \n",
       "21682                                    eyedownloader gay\n",
       "21683                                     davidsirmons gay\n",
       "21684                                               agreed\n",
       "21685    odd cause hate see fragile males upset whats a...\n",
       "21686                            wild white knight appears\n",
       "Name: Comments, Length: 21687, dtype: object"
      ]
     },
     "execution_count": 87,
     "metadata": {},
     "output_type": "execute_result"
    }
   ],
   "source": [
    "train['Comments'].apply(lambda x: ' '.join([word for word in x.split() if word not in (stop)]))"
   ]
  },
  {
   "cell_type": "code",
   "execution_count": 88,
   "id": "3808d09d",
   "metadata": {},
   "outputs": [],
   "source": [
    "# Join the words back\n",
    "train['Comments'] = train['Comments'].apply(lambda x: ' '.join([word for word in x.split() if word not in (stop)]))"
   ]
  },
  {
   "cell_type": "code",
   "execution_count": 89,
   "id": "cfbe1d70",
   "metadata": {},
   "outputs": [
    {
     "data": {
      "text/html": [
       "<div>\n",
       "<style scoped>\n",
       "    .dataframe tbody tr th:only-of-type {\n",
       "        vertical-align: middle;\n",
       "    }\n",
       "\n",
       "    .dataframe tbody tr th {\n",
       "        vertical-align: top;\n",
       "    }\n",
       "\n",
       "    .dataframe thead th {\n",
       "        text-align: right;\n",
       "    }\n",
       "</style>\n",
       "<table border=\"1\" class=\"dataframe\">\n",
       "  <thead>\n",
       "    <tr style=\"text-align: right;\">\n",
       "      <th></th>\n",
       "      <th>Comment Number</th>\n",
       "      <th>Reply Number</th>\n",
       "      <th>Like Count</th>\n",
       "      <th>Published At</th>\n",
       "      <th>Comments</th>\n",
       "      <th>text_length</th>\n",
       "    </tr>\n",
       "  </thead>\n",
       "  <tbody>\n",
       "    <tr>\n",
       "      <th>0</th>\n",
       "      <td>1.0</td>\n",
       "      <td>NaN</td>\n",
       "      <td>124</td>\n",
       "      <td>2019-01-21T11:04:16Z</td>\n",
       "      <td>context video</td>\n",
       "      <td>562</td>\n",
       "    </tr>\n",
       "    <tr>\n",
       "      <th>1</th>\n",
       "      <td>NaN</td>\n",
       "      <td>1.0</td>\n",
       "      <td>0</td>\n",
       "      <td>2022-08-20T00:40:51Z</td>\n",
       "      <td>stopped buying gillete</td>\n",
       "      <td>38</td>\n",
       "    </tr>\n",
       "    <tr>\n",
       "      <th>2</th>\n",
       "      <td>NaN</td>\n",
       "      <td>2.0</td>\n",
       "      <td>0</td>\n",
       "      <td>2022-08-16T21:57:02Z</td>\n",
       "      <td>036 council men approves</td>\n",
       "      <td>32</td>\n",
       "    </tr>\n",
       "    <tr>\n",
       "      <th>3</th>\n",
       "      <td>NaN</td>\n",
       "      <td>3.0</td>\n",
       "      <td>0</td>\n",
       "      <td>2022-06-24T09:27:01Z</td>\n",
       "      <td>love advertismentfrom 2017 date</td>\n",
       "      <td>43</td>\n",
       "    </tr>\n",
       "    <tr>\n",
       "      <th>4</th>\n",
       "      <td>NaN</td>\n",
       "      <td>4.0</td>\n",
       "      <td>0</td>\n",
       "      <td>2022-04-30T01:04:14Z</td>\n",
       "      <td>context never find guardian article truth</td>\n",
       "      <td>78</td>\n",
       "    </tr>\n",
       "    <tr>\n",
       "      <th>5</th>\n",
       "      <td>NaN</td>\n",
       "      <td>5.0</td>\n",
       "      <td>0</td>\n",
       "      <td>2022-03-26T11:19:21Z</td>\n",
       "      <td>👍 71k 👎 114k dem people spoken step yo bubble boa</td>\n",
       "      <td>60</td>\n",
       "    </tr>\n",
       "    <tr>\n",
       "      <th>6</th>\n",
       "      <td>NaN</td>\n",
       "      <td>6.0</td>\n",
       "      <td>0</td>\n",
       "      <td>2022-03-23T07:58:04Z</td>\n",
       "      <td></td>\n",
       "      <td>1</td>\n",
       "    </tr>\n",
       "    <tr>\n",
       "      <th>7</th>\n",
       "      <td>NaN</td>\n",
       "      <td>7.0</td>\n",
       "      <td>0</td>\n",
       "      <td>2022-02-09T10:34:26Z</td>\n",
       "      <td>lethalgiada use language shows deep rooted dis...</td>\n",
       "      <td>83</td>\n",
       "    </tr>\n",
       "    <tr>\n",
       "      <th>8</th>\n",
       "      <td>NaN</td>\n",
       "      <td>8.0</td>\n",
       "      <td>0</td>\n",
       "      <td>2022-01-31T22:58:29Z</td>\n",
       "      <td>guardian based confirmed</td>\n",
       "      <td>32</td>\n",
       "    </tr>\n",
       "    <tr>\n",
       "      <th>9</th>\n",
       "      <td>NaN</td>\n",
       "      <td>9.0</td>\n",
       "      <td>0</td>\n",
       "      <td>2021-03-06T18:54:15Z</td>\n",
       "      <td>imagine attacking target audience 🤣🤣🤣 dont bit...</td>\n",
       "      <td>76</td>\n",
       "    </tr>\n",
       "  </tbody>\n",
       "</table>\n",
       "</div>"
      ],
      "text/plain": [
       "   Comment Number  Reply Number  Like Count          Published At  \\\n",
       "0             1.0           NaN         124  2019-01-21T11:04:16Z   \n",
       "1             NaN           1.0           0  2022-08-20T00:40:51Z   \n",
       "2             NaN           2.0           0  2022-08-16T21:57:02Z   \n",
       "3             NaN           3.0           0  2022-06-24T09:27:01Z   \n",
       "4             NaN           4.0           0  2022-04-30T01:04:14Z   \n",
       "5             NaN           5.0           0  2022-03-26T11:19:21Z   \n",
       "6             NaN           6.0           0  2022-03-23T07:58:04Z   \n",
       "7             NaN           7.0           0  2022-02-09T10:34:26Z   \n",
       "8             NaN           8.0           0  2022-01-31T22:58:29Z   \n",
       "9             NaN           9.0           0  2021-03-06T18:54:15Z   \n",
       "\n",
       "                                            Comments  text_length  \n",
       "0                                      context video          562  \n",
       "1                             stopped buying gillete           38  \n",
       "2                           036 council men approves           32  \n",
       "3                    love advertismentfrom 2017 date           43  \n",
       "4          context never find guardian article truth           78  \n",
       "5  👍 71k 👎 114k dem people spoken step yo bubble boa           60  \n",
       "6                                                               1  \n",
       "7  lethalgiada use language shows deep rooted dis...           83  \n",
       "8                           guardian based confirmed           32  \n",
       "9  imagine attacking target audience 🤣🤣🤣 dont bit...           76  "
      ]
     },
     "execution_count": 89,
     "metadata": {},
     "output_type": "execute_result"
    }
   ],
   "source": [
    "train.head(10)"
   ]
  },
  {
   "cell_type": "code",
   "execution_count": 90,
   "id": "9076f01b",
   "metadata": {},
   "outputs": [],
   "source": [
    "##Remove emoticons\n",
    "\n",
    "def remove_emoticons(text):\n",
    "    emoticon_pattern = re.compile(\"[\"\n",
    "        u\"\\U0001F600-\\U0001F64F\"  # emoticons\n",
    "        u\"\\U0001F300-\\U0001F5FF\"  # symbols & pictographs\n",
    "        u\"\\U0001F680-\\U0001F6FF\"  # transport & map symbols\n",
    "        u\"\\U0001F1E0-\\U0001F1FF\"  # flags (iOS)\n",
    "        u\"\\U00002500-\\U00002BEF\"  # chinese char\n",
    "        u\"\\U00002702-\\U000027B0\"\n",
    "        u\"\\U00002702-\\U000027B0\"\n",
    "        u\"\\U000024C2-\\U0001F251\"\n",
    "        u\"\\U0001f926-\\U0001f937\"\n",
    "        u\"\\U00010000-\\U0010ffff\"\n",
    "        u\"\\u2640-\\u2642\"\n",
    "        u\"\\u2600-\\u2B55\"\n",
    "        u\"\\u200d\"\n",
    "        u\"\\u23cf\"\n",
    "        u\"\\u23e9\"\n",
    "        u\"\\u231a\"\n",
    "        u\"\\ufe0f\"  # dingbats\n",
    "        u\"\\u3030\"\n",
    "                           \"]+\", flags=re.UNICODE)\n",
    "    return emoticon_pattern.sub(r'', text)\n",
    "\n"
   ]
  },
  {
   "cell_type": "code",
   "execution_count": 91,
   "id": "27da7078",
   "metadata": {},
   "outputs": [],
   "source": [
    "\n",
    "# Apply the remove_emoticons function to the 'Comments' column\n",
    "train['Comments'] = train['Comments'].apply(remove_emoticons)"
   ]
  },
  {
   "cell_type": "code",
   "execution_count": 92,
   "id": "fc4d0877",
   "metadata": {},
   "outputs": [
    {
     "data": {
      "text/plain": [
       "0                                            context video\n",
       "1                                   stopped buying gillete\n",
       "2                                 036 council men approves\n",
       "3                          love advertismentfrom 2017 date\n",
       "4                context never find guardian article truth\n",
       "                               ...                        \n",
       "21682                                    eyedownloader gay\n",
       "21683                                     davidsirmons gay\n",
       "21684                                               agreed\n",
       "21685    odd cause hate see fragile males upset whats a...\n",
       "21686                            wild white knight appears\n",
       "Name: Comments, Length: 21687, dtype: object"
      ]
     },
     "execution_count": 92,
     "metadata": {},
     "output_type": "execute_result"
    }
   ],
   "source": [
    "train['Comments']"
   ]
  },
  {
   "cell_type": "markdown",
   "id": "a5d2c5da",
   "metadata": {},
   "source": [
    "# 6)Lemmatize"
   ]
  },
  {
   "cell_type": "code",
   "execution_count": 93,
   "id": "a07f85bc",
   "metadata": {},
   "outputs": [
    {
     "name": "stderr",
     "output_type": "stream",
     "text": [
      "[nltk_data] Downloading package wordnet to\n",
      "[nltk_data]     C:\\Users\\admin\\AppData\\Roaming\\nltk_data...\n",
      "[nltk_data]   Package wordnet is already up-to-date!\n"
     ]
    },
    {
     "data": {
      "text/plain": [
       "True"
      ]
     },
     "execution_count": 93,
     "metadata": {},
     "output_type": "execute_result"
    }
   ],
   "source": [
    "import nltk\n",
    "\n",
    "nltk.download('wordnet')"
   ]
  },
  {
   "cell_type": "code",
   "execution_count": 94,
   "id": "418ef278",
   "metadata": {},
   "outputs": [],
   "source": [
    "from nltk.stem import WordNetLemmatizer\n",
    "\n",
    "\n",
    "lemmatizer = WordNetLemmatizer()"
   ]
  },
  {
   "cell_type": "code",
   "execution_count": 95,
   "id": "56bafd46",
   "metadata": {},
   "outputs": [
    {
     "data": {
      "text/plain": [
       "0                                            context video\n",
       "1                                   stopped buying gillete\n",
       "2                                 036 council men approves\n",
       "3                          love advertismentfrom 2017 date\n",
       "4                context never find guardian article truth\n",
       "                               ...                        \n",
       "21682                                    eyedownloader gay\n",
       "21683                                     davidsirmons gay\n",
       "21684                                               agreed\n",
       "21685    odd cause hate see fragile males upset whats a...\n",
       "21686                            wild white knight appears\n",
       "Name: Comments, Length: 21687, dtype: object"
      ]
     },
     "execution_count": 95,
     "metadata": {},
     "output_type": "execute_result"
    }
   ],
   "source": [
    "# Lemmatize\n",
    "train['Comments'].apply(lambda x: lemmatizer.lemmatize(x))\n"
   ]
  },
  {
   "cell_type": "code",
   "execution_count": 96,
   "id": "55081b3e",
   "metadata": {},
   "outputs": [],
   "source": [
    "# Commit to Table\n",
    "\n",
    "train['Comments'] = train['Comments'].apply(lambda x: lemmatizer.lemmatize(x))"
   ]
  },
  {
   "cell_type": "markdown",
   "id": "1bfbfe20",
   "metadata": {},
   "source": [
    "## 7) POS Tagging"
   ]
  },
  {
   "cell_type": "code",
   "execution_count": 97,
   "id": "7fd8bafe",
   "metadata": {},
   "outputs": [
    {
     "name": "stderr",
     "output_type": "stream",
     "text": [
      "[nltk_data] Downloading package punkt to\n",
      "[nltk_data]     C:\\Users\\admin\\AppData\\Roaming\\nltk_data...\n",
      "[nltk_data]   Package punkt is already up-to-date!\n",
      "[nltk_data] Downloading package averaged_perceptron_tagger to\n",
      "[nltk_data]     C:\\Users\\admin\\AppData\\Roaming\\nltk_data...\n",
      "[nltk_data]   Package averaged_perceptron_tagger is already up-to-\n",
      "[nltk_data]       date!\n"
     ]
    },
    {
     "data": {
      "text/plain": [
       "True"
      ]
     },
     "execution_count": 97,
     "metadata": {},
     "output_type": "execute_result"
    }
   ],
   "source": [
    "# Download the required NLTK resources\n",
    "nltk.download('punkt')\n",
    "nltk.download('averaged_perceptron_tagger')"
   ]
  },
  {
   "cell_type": "code",
   "execution_count": 98,
   "id": "24d4c107",
   "metadata": {},
   "outputs": [],
   "source": [
    "def pos_tagging(text):\n",
    "    # Tokenize the text into words\n",
    "    tokens = nltk.word_tokenize(text)\n",
    "    # Perform POS tagging\n",
    "    tagged_tokens = nltk.pos_tag(tokens)\n",
    "    # Return the tagged tokens\n",
    "    return tagged_tokens"
   ]
  },
  {
   "cell_type": "code",
   "execution_count": 99,
   "id": "bad81118",
   "metadata": {},
   "outputs": [],
   "source": [
    "# Apply the POS tagging function to the 'Comments' column\n",
    "train['POS_Tagged'] = train['Comments'].apply(pos_tagging)"
   ]
  },
  {
   "cell_type": "code",
   "execution_count": 100,
   "id": "bafdd54c",
   "metadata": {},
   "outputs": [
    {
     "data": {
      "text/plain": [
       "0                             [(context, NN), (video, NN)]\n",
       "1           [(stopped, VBD), (buying, VBG), (gillete, NN)]\n",
       "2        [(036, CD), (council, NN), (men, NNS), (approv...\n",
       "3        [(love, NN), (advertismentfrom, NN), (2017, CD...\n",
       "4        [(context, NN), (never, RB), (find, VBP), (gua...\n",
       "                               ...                        \n",
       "21682                     [(eyedownloader, NN), (gay, NN)]\n",
       "21683                    [(davidsirmons, NNS), (gay, VBP)]\n",
       "21684                                      [(agreed, VBD)]\n",
       "21685    [(odd, JJ), (cause, NN), (hate, NN), (see, VBP...\n",
       "21686    [(wild, JJ), (white, JJ), (knight, NN), (appea...\n",
       "Name: POS_Tagged, Length: 21687, dtype: object"
      ]
     },
     "execution_count": 100,
     "metadata": {},
     "output_type": "execute_result"
    }
   ],
   "source": [
    "train['POS_Tagged']"
   ]
  },
  {
   "cell_type": "markdown",
   "id": "73788cec",
   "metadata": {},
   "source": [
    "# "
   ]
  },
  {
   "cell_type": "markdown",
   "id": "cd62fa97",
   "metadata": {},
   "source": [
    "## 7) NULLs detection"
   ]
  },
  {
   "cell_type": "code",
   "execution_count": 119,
   "id": "f38c8dca",
   "metadata": {},
   "outputs": [],
   "source": [
    "\n",
    "def is_blank(x):\n",
    "    \"\"\"\n",
    "    Returns True if the input string x is blank, False otherwise.\n",
    "    \"\"\"\n",
    "    return str(x).strip() == ''"
   ]
  }
 ],
 "metadata": {
  "kernelspec": {
   "display_name": "Python 3 (ipykernel)",
   "language": "python",
   "name": "python3"
  },
  "language_info": {
   "codemirror_mode": {
    "name": "ipython",
    "version": 3
   },
   "file_extension": ".py",
   "mimetype": "text/x-python",
   "name": "python",
   "nbconvert_exporter": "python",
   "pygments_lexer": "ipython3",
   "version": "3.9.12"
  }
 },
 "nbformat": 4,
 "nbformat_minor": 5
}
